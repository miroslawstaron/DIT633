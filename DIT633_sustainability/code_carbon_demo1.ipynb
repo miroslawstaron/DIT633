{
 "cells": [
  {
   "attachments": {},
   "cell_type": "markdown",
   "metadata": {},
   "source": [
    "# Notebook demonstrating how to calculate carbon emissions from a python script\n",
    "\n",
    "I know that this is not a C code, but it's just an illustration how we can use the same code to calculate carbon emissions from a python script.\n",
    "\n",
    "The code uses the library from https://codecarbon.io/ to calculate the carbon emissions."
   ]
  },
  {
   "cell_type": "code",
   "execution_count": 2,
   "metadata": {},
   "outputs": [
    {
     "name": "stderr",
     "output_type": "stream",
     "text": [
      "[codecarbon INFO @ 17:19:33] [setup] RAM Tracking...\n",
      "[codecarbon INFO @ 17:19:33] [setup] GPU Tracking...\n",
      "[codecarbon INFO @ 17:19:33] Tracking Nvidia GPU via pynvml\n",
      "[codecarbon INFO @ 17:19:33] [setup] CPU Tracking...\n",
      "[codecarbon WARNING @ 17:19:33] No CPU tracking mode found. Falling back on CPU constant mode.\n",
      "[codecarbon INFO @ 17:19:36] CPU Model on constant consumption mode: Intel(R) Core(TM) i7-10875H CPU @ 2.30GHz\n",
      "[codecarbon INFO @ 17:19:36] >>> Tracker's metadata:\n",
      "[codecarbon INFO @ 17:19:36]   Platform system: Linux-5.10.102.1-microsoft-standard-WSL2-x86_64-with-glibc2.29\n",
      "[codecarbon INFO @ 17:19:36]   Python version: 3.8.10\n",
      "[codecarbon INFO @ 17:19:36]   Available RAM : 15.501 GB\n",
      "[codecarbon INFO @ 17:19:36]   CPU count: 16\n",
      "[codecarbon INFO @ 17:19:36]   CPU model: Intel(R) Core(TM) i7-10875H CPU @ 2.30GHz\n",
      "[codecarbon INFO @ 17:19:36]   GPU count: 1\n",
      "[codecarbon INFO @ 17:19:36]   GPU model: 1 x NVIDIA GeForce RTX 2060 with Max-Q Design\n",
      "[codecarbon INFO @ 17:19:39] Energy consumed for RAM : 0.000000 kWh. RAM Power : 5.8129706382751465 W\n",
      "[codecarbon INFO @ 17:19:39] Energy consumed for all GPUs : 0.000000 kWh. All GPUs Power : 3.601 W\n",
      "[codecarbon INFO @ 17:19:39] Energy consumed for all CPUs : 0.000001 kWh. All CPUs Power : 22.5 W\n",
      "[codecarbon INFO @ 17:19:39] 0.000001 kWh of electricity used since the begining.\n"
     ]
    },
    {
     "name": "stdout",
     "output_type": "stream",
     "text": [
      "Hello World!\n"
     ]
    },
    {
     "data": {
      "text/plain": [
       "1.597498314574176e-08"
      ]
     },
     "execution_count": 2,
     "metadata": {},
     "output_type": "execute_result"
    }
   ],
   "source": [
    "from codecarbon import EmissionsTracker\n",
    "\n",
    "tracker = EmissionsTracker()\n",
    "\n",
    "tracker.start()\n",
    "\n",
    "# The code to be footprinted is ere\n",
    "print('Hello World!')\n",
    "\n",
    "for i in range(1000000):\n",
    "    i += 1\n",
    "\n",
    "tracker.stop()"
   ]
  }
 ],
 "metadata": {
  "kernelspec": {
   "display_name": "Python 3",
   "language": "python",
   "name": "python3"
  },
  "language_info": {
   "codemirror_mode": {
    "name": "ipython",
    "version": 3
   },
   "file_extension": ".py",
   "mimetype": "text/x-python",
   "name": "python",
   "nbconvert_exporter": "python",
   "pygments_lexer": "ipython3",
   "version": "3.8.10"
  },
  "orig_nbformat": 4,
  "vscode": {
   "interpreter": {
    "hash": "916dbcbb3f70747c44a77c7bcd40155683ae19c65e1c03b4aa3499c5328201f1"
   }
  }
 },
 "nbformat": 4,
 "nbformat_minor": 2
}
